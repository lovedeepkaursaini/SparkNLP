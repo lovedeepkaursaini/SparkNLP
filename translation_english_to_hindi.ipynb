{
  "cells": [
    {
      "cell_type": "markdown",
      "metadata": {
        "id": "view-in-github",
        "colab_type": "text"
      },
      "source": [
        "<a href=\"https://colab.research.google.com/github/lovedeepkaursaini/SparkNLP/blob/main/translation_english_to_hindi.ipynb\" target=\"_parent\"><img src=\"https://colab.research.google.com/assets/colab-badge.svg\" alt=\"Open In Colab\"/></a>"
      ]
    },
    {
      "cell_type": "markdown",
      "metadata": {
        "id": "CzIdjHkAW8TB"
      },
      "source": [
        "## **Python program for translating an English sentence into Hindi using Spark NLP**"
      ]
    },
    {
      "cell_type": "markdown",
      "metadata": {
        "id": "y1sZkQkt3sXX"
      },
      "source": [
        "### Spark NLP documentation and instructions:\n",
        "https://nlp.johnsnowlabs.com/docs/en/quickstart\n",
        "\n",
        "### You can find details about Spark NLP annotators here:\n",
        "https://nlp.johnsnowlabs.com/docs/en/annotators\n",
        "\n",
        "### You can find details about Spark NLP models here:\n",
        "https://nlp.johnsnowlabs.com/models\n"
      ]
    },
    {
      "cell_type": "markdown",
      "metadata": {
        "id": "wIeCOiJNW-88"
      },
      "source": [
        "## 1. Colab Setup"
      ]
    },
    {
      "cell_type": "code",
      "execution_count": null,
      "metadata": {
        "id": "CGJktFHdHL1n"
      },
      "outputs": [],
      "source": [
        "# Install PySpark and Spark NLP\n",
        "! pip install -q pyspark==3.1.2 spark-nlp\n",
        "\n",
        "# Install Spark NLP Display lib\n",
        "! pip install --upgrade -q spark-nlp-display"
      ]
    },
    {
      "cell_type": "markdown",
      "metadata": {
        "id": "eCIT5VLxS3I1"
      },
      "source": [
        "## 2. Start the Spark session"
      ]
    },
    {
      "cell_type": "markdown",
      "metadata": {
        "id": "khjM-z9ORFU3"
      },
      "source": [
        "Import dependencies and start Spark session."
      ]
    },
    {
      "cell_type": "code",
      "execution_count": null,
      "metadata": {
        "id": "sw-t1zxlHTB7"
      },
      "outputs": [],
      "source": [
        "import json\n",
        "import pandas as pd\n",
        "import numpy as np\n",
        "\n",
        "from pyspark.ml import Pipeline\n",
        "from pyspark.sql import SparkSession\n",
        "import pyspark.sql.functions as F\n",
        "from sparknlp.annotator import *\n",
        "from sparknlp.base import *\n",
        "import sparknlp\n",
        "from sparknlp.pretrained import PretrainedPipeline\n",
        "\n",
        "spark = sparknlp.start()"
      ]
    },
    {
      "cell_type": "markdown",
      "metadata": {
        "id": "XftYgju4XOw_"
      },
      "source": [
        "## 3. Define Spark NLP pipeline"
      ]
    },
    {
      "cell_type": "code",
      "execution_count": null,
      "metadata": {
        "colab": {
          "base_uri": "https://localhost:8080/"
        },
        "id": "lBggF5P8J1gc",
        "outputId": "fc370945-6404-4697-aec2-9bbad4f90ff3"
      },
      "outputs": [
        {
          "output_type": "stream",
          "name": "stdout",
          "text": [
            "translate_en_hi download started this may take some time.\n",
            "Approx size to download 275.1 MB\n",
            "[OK!]\n"
          ]
        }
      ],
      "source": [
        "from sparknlp.pretrained import PretrainedPipeline \n",
        "pipeline = PretrainedPipeline(\"translate_en_hi\", lang = \"xx\") "
      ]
    },
    {
      "cell_type": "markdown",
      "metadata": {
        "id": "mv0abcwhXWC-"
      },
      "source": [
        "## 4. Run the pipeline and Visulize the results"
      ]
    },
    {
      "cell_type": "code",
      "execution_count": null,
      "metadata": {
        "id": "EYf_9sXDXR4t",
        "outputId": "39589b81-577d-4444-e7fc-aeaa86f23bfc",
        "colab": {
          "base_uri": "https://localhost:8080/"
        }
      },
      "outputs": [
        {
          "output_type": "execute_result",
          "data": {
            "text/plain": [
              "{'document': ['I wish you a wonderful day!'],\n",
              " 'sentence': ['I wish you a wonderful day!'],\n",
              " 'translation': ['मैं तुम्हें एक अद्भुत दिन की कामना करता हूँ!']}"
            ]
          },
          "metadata": {},
          "execution_count": 4
        }
      ],
      "source": [
        "pipeline.annotate(\"I wish you a wonderful day!\")"
      ]
    },
    {
      "cell_type": "code",
      "source": [
        "pipeline.annotate(\"you will get success in this exam.\")"
      ],
      "metadata": {
        "id": "IbkBfvI7NrNI",
        "outputId": "e466ae95-8034-4b20-e998-a14770c2911d",
        "colab": {
          "base_uri": "https://localhost:8080/"
        }
      },
      "execution_count": null,
      "outputs": [
        {
          "output_type": "execute_result",
          "data": {
            "text/plain": [
              "{'document': ['you will get success in this exam.'],\n",
              " 'sentence': ['you will get success in this exam.'],\n",
              " 'translation': ['आप इस परीक्षा में सफलता प्राप्त होगा.']}"
            ]
          },
          "metadata": {},
          "execution_count": 5
        }
      ]
    },
    {
      "cell_type": "code",
      "source": [
        "pipeline.annotate(\"you are amazing!\")"
      ],
      "metadata": {
        "id": "1Ni_-qvWP65W",
        "outputId": "ef4851c3-5e35-44e2-ea90-3486272000a5",
        "colab": {
          "base_uri": "https://localhost:8080/"
        }
      },
      "execution_count": null,
      "outputs": [
        {
          "output_type": "execute_result",
          "data": {
            "text/plain": [
              "{'document': ['you are amazing!'],\n",
              " 'sentence': ['you are amazing!'],\n",
              " 'translation': ['तुम कमाल की हो!']}"
            ]
          },
          "metadata": {},
          "execution_count": 6
        }
      ]
    },
    {
      "cell_type": "code",
      "source": [
        "pipeline.annotate(\"I had fun!\")"
      ],
      "metadata": {
        "id": "pXpp8QXRQW78",
        "colab": {
          "base_uri": "https://localhost:8080/"
        },
        "outputId": "52c4a948-4e99-4cbd-e588-d62d5912f99f"
      },
      "execution_count": null,
      "outputs": [
        {
          "output_type": "execute_result",
          "data": {
            "text/plain": [
              "{'document': ['I had fun!'],\n",
              " 'sentence': ['I had fun!'],\n",
              " 'translation': ['मैं मज़ा किया था!']}"
            ]
          },
          "metadata": {},
          "execution_count": 7
        }
      ]
    },
    {
      "cell_type": "code",
      "source": [
        "pipeline.annotate(\"It is not perfect but can be improved!\")"
      ],
      "metadata": {
        "colab": {
          "base_uri": "https://localhost:8080/"
        },
        "id": "OocTvW0YRuQo",
        "outputId": "de1849f5-497b-4958-ebf3-a361e91492a0"
      },
      "execution_count": null,
      "outputs": [
        {
          "output_type": "execute_result",
          "data": {
            "text/plain": [
              "{'document': ['It is not perfect but can be improved!'],\n",
              " 'sentence': ['It is not perfect but can be improved!'],\n",
              " 'translation': ['यह परिपूर्ण नहीं है लेकिन सुधार किया जा सकता है!']}"
            ]
          },
          "metadata": {},
          "execution_count": 9
        }
      ]
    },
    {
      "cell_type": "code",
      "source": [
        "pipeline.annotate(\"Have fun with it!\")"
      ],
      "metadata": {
        "colab": {
          "base_uri": "https://localhost:8080/"
        },
        "id": "LgJwXWBjR6lU",
        "outputId": "a59e78e7-4adf-4024-f1b1-d03d23cd6c2a"
      },
      "execution_count": null,
      "outputs": [
        {
          "output_type": "execute_result",
          "data": {
            "text/plain": [
              "{'document': ['Have fun with it!'],\n",
              " 'sentence': ['Have fun with it!'],\n",
              " 'translation': ['इसके साथ मज़ा लें!']}"
            ]
          },
          "metadata": {},
          "execution_count": 11
        }
      ]
    },
    {
      "cell_type": "code",
      "source": [
        "pipeline.annotate(\"thank you!\")"
      ],
      "metadata": {
        "colab": {
          "base_uri": "https://localhost:8080/"
        },
        "id": "5xxQjssOSQIa",
        "outputId": "d82755dc-5599-43fe-d657-bc4a471d5565"
      },
      "execution_count": null,
      "outputs": [
        {
          "output_type": "execute_result",
          "data": {
            "text/plain": [
              "{'document': ['thank you!'],\n",
              " 'sentence': ['thank you!'],\n",
              " 'translation': ['धन्यवाद!']}"
            ]
          },
          "metadata": {},
          "execution_count": 12
        }
      ]
    }
  ],
  "metadata": {
    "colab": {
      "provenance": [],
      "toc_visible": true,
      "include_colab_link": true
    },
    "interpreter": {
      "hash": "45150093197569bb3a58481dcd32cd1adb45462fa3448719e8ac38ada6166aca"
    },
    "kernelspec": {
      "display_name": "Python 3.6.10 64-bit ('tensorflow2_p36': conda)",
      "name": "python3"
    },
    "language_info": {
      "codemirror_mode": {
        "name": "ipython",
        "version": 3
      },
      "file_extension": ".py",
      "mimetype": "text/x-python",
      "name": "python",
      "nbconvert_exporter": "python",
      "pygments_lexer": "ipython3",
      "version": "3.6.10"
    }
  },
  "nbformat": 4,
  "nbformat_minor": 0
}